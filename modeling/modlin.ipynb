{
 "cells": [
  {
   "cell_type": "code",
   "execution_count": 1,
   "metadata": {},
   "outputs": [
    {
     "ename": "ModuleNotFoundError",
     "evalue": "No module named 'pandas'",
     "output_type": "error",
     "traceback": [
      "\u001b[31m---------------------------------------------------------------------------\u001b[39m",
      "\u001b[31mModuleNotFoundError\u001b[39m                       Traceback (most recent call last)",
      "\u001b[36mCell\u001b[39m\u001b[36m \u001b[39m\u001b[32mIn[1]\u001b[39m\u001b[32m, line 1\u001b[39m\n\u001b[32m----> \u001b[39m\u001b[32m1\u001b[39m \u001b[38;5;28;01mimport\u001b[39;00m\u001b[38;5;250m \u001b[39m\u001b[34;01mpandas\u001b[39;00m\u001b[38;5;250m \u001b[39m\u001b[38;5;28;01mas\u001b[39;00m\u001b[38;5;250m \u001b[39m\u001b[34;01mpd\u001b[39;00m\n\u001b[32m      2\u001b[39m df = pd.read_parquet(\u001b[33m'\u001b[39m\u001b[33m../data_acq/objective_data.parquet\u001b[39m\u001b[33m'\u001b[39m)\n\u001b[32m      3\u001b[39m \u001b[38;5;28mprint\u001b[39m(\u001b[33m'\u001b[39m\u001b[33munique matches: \u001b[39m\u001b[33m'\u001b[39m, df[\u001b[33m'\u001b[39m\u001b[33mmatchId\u001b[39m\u001b[33m'\u001b[39m].nunique())\n",
      "\u001b[31mModuleNotFoundError\u001b[39m: No module named 'pandas'"
     ]
    }
   ],
   "source": [
    "import pandas as pd\n",
    "df = pd.read_parquet('../data_acq/objective_data.parquet')\n",
    "print('unique matches: ', df['matchId'].nunique())\n",
    "df"
   ]
  },
  {
   "cell_type": "code",
   "execution_count": 6,
   "metadata": {},
   "outputs": [
    {
     "data": {
      "text/plain": [
       "count    2.144242e+06\n",
       "mean     1.862541e+01\n",
       "std      8.148138e+00\n",
       "min      5.301517e+00\n",
       "25%      1.217528e+01\n",
       "50%      1.775854e+01\n",
       "75%      2.453922e+01\n",
       "max      6.486793e+01\n",
       "Name: minutesElapsed, dtype: float64"
      ]
     },
     "metadata": {},
     "output_type": "display_data"
    },
    {
     "data": {
      "text/plain": [
       "<Axes: >"
      ]
     },
     "execution_count": 6,
     "metadata": {},
     "output_type": "execute_result"
    },
    {
     "data": {
      "image/png": "[encoded data removed]",
      "text/plain": [
       "<Figure size 640x480 with 1 Axes>"
      ]
     },
     "metadata": {},
     "output_type": "display_data"
    }
   ],
   "source": [
    "display(df['minutesElapsed'].describe())\n",
    "df['minutesElapsed'].hist()"
   ]
  },
  {
   "cell_type": "code",
   "execution_count": 164,
   "metadata": {},
   "outputs": [],
   "source": [
    "def prediction_columns(df: pd.DataFrame):\n",
    "    return df.drop(columns=['won', 'objective', 'matchId', 'patch', 'region'])"
   ]
  },
  {
   "cell_type": "code",
   "execution_count": null,
   "metadata": {},
   "outputs": [],
   "source": [
    "from sklearn.calibration import calibration_curve\n",
    "import matplotlib.pyplot as plt\n",
    "import numpy as np\n",
    "from sklearn.model_selection import train_test_split\n",
    "from catboost import CatBoostClassifier, Pool, cv\n",
    "import scipy.stats as st\n",
    "\n",
    "match_list = df['matchId'].unique()\n",
    "train_matches, test_matches = train_test_split(match_list, test_size=.5)\n",
    "\n",
    "df_train = df[df['matchId'].isin(train_matches)]\n",
    "df_test = df[df['matchId'].isin(test_matches)]\n",
    "\n",
    "for size in [.60, .70, .80, .90, 1]:\n",
    "    ece_scores = []\n",
    "    for i in range(0,10):\n",
    "        sample = df_train.sample(frac=size)\n",
    "\n",
    "        X_train = prediction_columns(sample)\n",
    "        y_train = sample['won']\n",
    "\n",
    "        X_test = prediction_columns(df_test)\n",
    "        y_test = df_test['won']\n",
    "\n",
    "\n",
    "        model = CatBoostClassifier(cat_features=['soulType', 'team', 'rank'],\n",
    "                            depth=4, \n",
    "                            learning_rate=0.05, \n",
    "                            early_stopping_rounds=50,\n",
    "                            loss_function='Logloss',\n",
    "                                eval_metric='Logloss',\n",
    "                                task_type=\"GPU\",\n",
    "                                devices='0',\n",
    "                                verbose=False)\n",
    "        model.fit(X_train, y_train, eval_set=(X_test, y_test))\n",
    "\n",
    "        y_preds = [item[1] for item in model.predict_proba(X_test)]\n",
    "        ratio_true_1s, avg_preds = calibration_curve(y_true=y_test, y_prob=y_preds, n_bins=30)\n",
    "        bin_counts = np.histogram(y_preds, bins=30)[0]\n",
    "        ece = np.sum(bin_counts / len(y_test) * np.abs(ratio_true_1s - avg_preds))\n",
    "        ece_scores.append(ece)\n",
    "    \n",
    "    \n",
    "    mean_ece = np.mean(ece_scores)\n",
    "    sem = st.sem(ece_scores)\n",
    "    ci_lower, ci_upper = st.t.interval(0.95, len(ece_scores)-1, loc=mean_ece, scale=sem)\n",
    "    print(f\"Size: {size} | Mean ECE: {mean_ece:.4f} | 95% CI: ({ci_lower:.4f}, {ci_upper:.4f})\")\n"
   ]
  },
  {
   "cell_type": "code",
   "execution_count": 172,
   "metadata": {},
   "outputs": [
    {
     "data": {
      "text/plain": [
       "goldDifference            42.126387\n",
       "alliedDragons              9.899739\n",
       "enemyDragons               7.591043\n",
       "avgEnemyRespawn            6.758658\n",
       "atakhan                    6.320431\n",
       "averageAllyLvl             2.903305\n",
       "averageEnemyLvl            2.808478\n",
       "avgAlliedRespawn           2.108393\n",
       "damageTypeRatio            1.800615\n",
       "CCScore                    1.765591\n",
       "enemyCCScore               1.609082\n",
       "tillEnemyNT2               1.571528\n",
       "alliedGrubs                0.995233\n",
       "tillEnemyMidInhib          0.958692\n",
       "team                       0.842095\n",
       "untilBaronExp              0.831600\n",
       "averageEnemytoFountain     0.818124\n",
       "enemyGrubs                 0.708210\n",
       "averageAllyToFountain      0.574363\n",
       "topTurrets                 0.558593\n",
       "untilGrubsSpawn            0.512748\n",
       "vsSquishy                  0.512039\n",
       "rank                       0.482846\n",
       "tillEnemyNT1               0.454888\n",
       "hasSoul                    0.444025\n",
       "untilBaronSpawn            0.413967\n",
       "untilDragonSpawn           0.361578\n",
       "isSquishy                  0.336398\n",
       "enemyMidTurrets            0.335807\n",
       "killedHerald               0.315094\n",
       "featsOfStrength            0.289735\n",
       "midTurrets                 0.248211\n",
       "soulType                   0.245322\n",
       "enemytopTurrets            0.228403\n",
       "tillEnemyBotInhib          0.212950\n",
       "botTurrets                 0.204307\n",
       "minutesElapsed             0.188173\n",
       "tillEnemyTopInhib          0.147882\n",
       "tillAlliedMidInhib         0.124370\n",
       "untilElderExp              0.102842\n",
       "enemyBotTurrets            0.091710\n",
       "tillAlliedTopInhib         0.062830\n",
       "tillAlliedNT2              0.045184\n",
       "tillAlliedBotInhib         0.043637\n",
       "tillAlliedNT1              0.024171\n",
       "untilElderSpawn            0.013256\n",
       "heraldDeployed             0.007470\n",
       "dtype: float64"
      ]
     },
     "execution_count": 172,
     "metadata": {},
     "output_type": "execute_result"
    }
   ],
   "source": [
    "pd.Series(index=X_train.columns, data=model.get_feature_importance()).sort_values(ascending=False)"
   ]
  },
  {
   "cell_type": "code",
   "execution_count": 16,
   "metadata": {},
   "outputs": [
    {
     "name": "stdout",
     "output_type": "stream",
     "text": [
      "0.0034693440060993416\n"
     ]
    }
   ],
   "source": [
    "from sklearn.calibration import calibration_curve\n",
    "import matplotlib.pyplot as plt\n",
    "import numpy as np\n",
    "from sklearn.model_selection import train_test_split\n",
    "from catboost import CatBoostClassifier, Pool, cv\n",
    "import scipy.stats as st\n",
    "import seaborn as sns\n",
    "\n",
    "match_list = df['matchId'].unique()\n",
    "train_matches, test_matches = train_test_split(match_list, test_size=.5)\n",
    "\n",
    "df_train = df[df['matchId'].isin(train_matches)]\n",
    "df_test = df[df['matchId'].isin(test_matches)]\n",
    "\n",
    "X_train = df_train.drop(columns=['won', 'objective', 'matchId', 'patch', 'region'])\n",
    "y_train = df_train['won']\n",
    "\n",
    "X_test = df_test.drop(columns=['won', 'objective', 'matchId', 'patch', 'region'])\n",
    "y_test = df_test['won']\n",
    "\n",
    "\n",
    "model = CatBoostClassifier(cat_features=['soulType', 'team', 'rank'],\n",
    "                    depth=4, \n",
    "                    learning_rate=0.05, \n",
    "                    early_stopping_rounds=50,\n",
    "                    loss_function='Logloss',\n",
    "                        eval_metric='Logloss',\n",
    "                        task_type=\"GPU\",\n",
    "                        devices='0',\n",
    "                        verbose=False)\n",
    "model.fit(X_train, y_train, eval_set=(X_test, y_test))\n",
    "\n",
    "y_preds = [item[1] for item in model.predict_proba(X_test)]\n",
    "ratio_true_1s, avg_preds = calibration_curve(y_true=y_test, y_prob=y_preds, n_bins=30)\n",
    "\n",
    "bin_errors = ratio_true_1s - avg_preds\n",
    "bin_counts = np.histogram(y_preds, bins=30)[0]\n",
    "ece = np.sum(bin_counts / len(y_test) * np.abs(bin_errors))\n",
    "print(ece)"
   ]
  },
  {
   "cell_type": "code",
   "execution_count": 209,
   "metadata": {},
   "outputs": [
    {
     "name": "stdout",
     "output_type": "stream",
     "text": [
      "ECE:  0.0034693440060993416\n"
     ]
    },
    {
     "data": {
      "image/png": "[encoded data removed]",
      "text/plain": [
       "<Figure size 640x480 with 1 Axes>"
      ]
     },
     "metadata": {},
     "output_type": "display_data"
    }
   ],
   "source": [
    "print('ECE: ', ece)\n",
    "plt.scatter(avg_preds, ratio_true_1s)\n",
    "plt.xlabel(\"avg preds\")\n",
    "plt.ylabel(\"ratio true 1s\")\n",
    "plt.show()"
   ]
  },
  {
   "cell_type": "code",
   "execution_count": 207,
   "metadata": {},
   "outputs": [
    {
     "name": "stderr",
     "output_type": "stream",
     "text": [
      "c:\\Users\\Luke\\Desktop\\SELF_LEARNING\\LoL_Objective_Strength\\.venv\\Lib\\site-packages\\numpy\\core\\fromnumeric.py:59: FutureWarning: 'DataFrame.swapaxes' is deprecated and will be removed in a future version. Please use 'DataFrame.transpose' instead.\n",
      "  return bound(*args, **kwds)\n"
     ]
    },
    {
     "data": {
      "text/plain": [
       "1               ✅normal - ✅centered at 0\n",
       "2          ✅normal - ❌ not centered at 0\n",
       "3               ✅normal - ✅centered at 0\n",
       "4               ✅normal - ✅centered at 0\n",
       "5     ❌ not normal - ❌ not centered at 0\n",
       "6               ✅normal - ✅centered at 0\n",
       "7               ✅normal - ✅centered at 0\n",
       "8               ✅normal - ✅centered at 0\n",
       "9          ✅normal - ❌ not centered at 0\n",
       "10              ✅normal - ✅centered at 0\n",
       "11              ✅normal - ✅centered at 0\n",
       "12         ✅normal - ❌ not centered at 0\n",
       "13         ✅normal - ❌ not centered at 0\n",
       "14         ✅normal - ❌ not centered at 0\n",
       "15              ✅normal - ✅centered at 0\n",
       "16         ✅normal - ❌ not centered at 0\n",
       "17    ❌ not normal - ❌ not centered at 0\n",
       "18              ✅normal - ✅centered at 0\n",
       "19              ✅normal - ✅centered at 0\n",
       "20              ✅normal - ✅centered at 0\n",
       "21         ✅normal - ❌ not centered at 0\n",
       "22              ✅normal - ✅centered at 0\n",
       "23         ✅normal - ❌ not centered at 0\n",
       "24              ✅normal - ✅centered at 0\n",
       "25              ✅normal - ✅centered at 0\n",
       "26              ✅normal - ✅centered at 0\n",
       "27              ✅normal - ✅centered at 0\n",
       "28              ✅normal - ✅centered at 0\n",
       "29              ✅normal - ✅centered at 0\n",
       "30         ✅normal - ❌ not centered at 0\n",
       "dtype: object"
      ]
     },
     "execution_count": 207,
     "metadata": {},
     "output_type": "execute_result"
    }
   ],
   "source": [
    "from scipy.stats import shapiro, ttest_1samp\n",
    "import pickle\n",
    "with open('low_ece.pkl', 'rb') as file:\n",
    "    best_model = pickle.load(file)\n",
    "\n",
    "df_test = pd.read_parquet('test_set.parquet')\n",
    "subsets = np.array_split(df_test.sample(frac=1), 30)\n",
    "\n",
    "model_errors = []\n",
    "for sub in subsets:\n",
    "    y_preds = [item[1] for item in model.predict_proba(prediction_columns(sub))]\n",
    "    ratio_true_1s, avg_preds = calibration_curve(y_true=sub['won'], y_prob=y_preds, n_bins=30)\n",
    "\n",
    "    bin_errors = ratio_true_1s - avg_preds\n",
    "    model_errors.append(bin_errors)\n",
    "\n",
    "data = pd.DataFrame(model_errors, columns=list(range(1,31)))\n",
    "\n",
    "def test_norm_c0(sample: pd.Series):\n",
    "    stat, p = shapiro(sample)\n",
    "    if p > .05:\n",
    "        norm = '✅normal'\n",
    "    else:\n",
    "        norm = '❌ not normal'\n",
    "\n",
    "    stat, p_val = ttest_1samp(sample, popmean=0)\n",
    "    if p_val > .05:\n",
    "        centered = '✅centered at 0'\n",
    "    else:\n",
    "        centered = '❌ not centered at 0'\n",
    "    \n",
    "    return f'{norm} - {centered}'\n",
    "\n",
    "data.apply(test_norm_c0, axis=0)"
   ]
  },
  {
   "cell_type": "markdown",
   "metadata": {},
   "source": [
    "### Simulate objective capture and find win delta"
   ]
  },
  {
   "cell_type": "code",
   "execution_count": 188,
   "metadata": {},
   "outputs": [],
   "source": [
    "def simulate_obj(row):\n",
    "    obj = row['objective']\n",
    "\n",
    "    if obj in ['EARTH_DRAGON', 'CHEMTECH_DRAGON', 'WATER_DRAGON', \n",
    "            'FIRE_DRAGON', 'AIR_DRAGON', 'HEXTECH_DRAGON']:\n",
    "        row['alliedDragons'] += 1\n",
    "        row['untilDragonSpawn'] = 300\n",
    "        row['goldDifference'] += 25\n",
    "\n",
    "    elif obj in ['Chemtech_dragon_soul', 'Cloud_dragon_soul', 'Hextech_dragon_soul',\n",
    "                'Mountain_dragon_soul', 'Ocean_dragon_soul', 'Infernal_dragon_soul']:\n",
    "        row['alliedDragons'] += 1\n",
    "        row['untilDragonSpawn'] = np.nan\n",
    "        row['untilElderSpawn'] = 360\n",
    "        row['goldDifference'] += 25\n",
    "        row['hasSoul'] = 1\n",
    "\n",
    "\n",
    "    elif obj == 'atakhan':\n",
    "        row['atakhan'] = 1\n",
    "        row['goldDifference'] += 275\n",
    "\n",
    "    elif obj == 'riftHerald':\n",
    "        row['killedHerald'] = 1\n",
    "        row['goldDifference'] += 200\n",
    "\n",
    "\n",
    "    elif obj == 'nexusTurret':\n",
    "        if row['tillEnemyNT1'] == 0:\n",
    "            row['tillEnemyNT1'] = 180\n",
    "        else:\n",
    "            row['tillEnemyNT2'] = 180\n",
    "        row['goldDifference'] += 250\n",
    "\n",
    "    elif obj == 'baron':\n",
    "        row['untilBaronExp'] = 180\n",
    "        row['untilBaronSpawn'] = 360\n",
    "        row['goldDifference'] += 1525\n",
    "\n",
    "    elif obj == 'midInhib':\n",
    "        row['tillEnemyMidInhib'] = 300\n",
    "    \n",
    "    elif obj == 'topInhib':\n",
    "        row['tillEnemyTopInhib'] = 300\n",
    "\n",
    "    elif obj == 'botInhib':\n",
    "        row['tillEnemyBotInhib'] = 300\n",
    "\n",
    "    elif obj in ['midT1', 'midT2', 'midT3']:\n",
    "        row['enemyMidTurrets'] -= 1\n",
    "        if 'T1' in obj:\n",
    "            row['goldDifference'] += 500\n",
    "        if 'T2' in obj:\n",
    "            row['goldDifference'] += 550\n",
    "        if 'T3' in obj:\n",
    "            row['goldDifference'] += 500\n",
    "    \n",
    "    elif obj in ['botT1', 'botT2', 'botT3']:\n",
    "        row['enemyBotTurrets'] -= 1\n",
    "        if 'T1' in obj:\n",
    "            row['goldDifference'] += 500\n",
    "        if 'T2' in obj:\n",
    "            row['goldDifference'] += 800\n",
    "        if 'T3' in obj:\n",
    "            row['goldDifference'] += 500\n",
    "    \n",
    "    elif obj in ['topT1', 'topT2', 'topT3']:\n",
    "        row['enemytopTurrets'] -= 1\n",
    "        if 'T1' in obj:\n",
    "            row['goldDifference'] += 500\n",
    "        if 'T2' in obj:\n",
    "            row['goldDifference'] += 800\n",
    "        if 'T3' in obj:\n",
    "            row['goldDifference'] += 500\n",
    "    \n",
    "    elif obj == 'elder':\n",
    "        row['untilElderExp'] = 150\n",
    "        row['untilElderSpawn'] = 360\n",
    "        row['goldDifference'] += 1350\n",
    "\n",
    "    \n",
    "    elif obj == 'grub':\n",
    "        row['alliedGrubs'] += 1\n",
    "        if (row['alliedGrubs'] + row['enemyGrubs']) % 3 == 0: \n",
    "            if row['minutesElapsed'] < 11.75:\n",
    "                row['untilGrubsSpawn'] = 240\n",
    "            else:\n",
    "                row['untilGrubsSpawn'] = np.nan\n",
    "        row['goldDifference'] += 25\n",
    "        \n",
    "    elif obj == 'feats':\n",
    "        row['featsOfStrength'] = 1\n",
    "\n",
    "    return row\n",
    "\n",
    "\n",
    "def find_win_deltas(df: pd.DataFrame, model: CatBoostClassifier) -> pd.DataFrame:\n",
    "    df = df.copy(deep=True)\n",
    "\n",
    "    df['pre_pred'] = [item[1] for item in model.predict_proba(prediction_columns(df))]\n",
    "    \n",
    "    post_df = df.apply(simulate_obj, axis=1)\n",
    "\n",
    "    df['post_pred'] = [item[1] for item in model.predict_proba(prediction_columns(post_df))] \n",
    "    \n",
    "    differences = df['post_pred'] - df['pre_pred']\n",
    "\n",
    "    df['win_delta'] = differences\n",
    "\n",
    "    return df\n"
   ]
  },
  {
   "cell_type": "markdown",
   "metadata": {},
   "source": [
    "### Find confidence intervals"
   ]
  },
  {
   "cell_type": "markdown",
   "metadata": {},
   "source": [
    "#### merge bins until sufficient obs"
   ]
  },
  {
   "cell_type": "code",
   "execution_count": 180,
   "metadata": {},
   "outputs": [],
   "source": [
    "def merge_small_bins(df: pd.DataFrame) -> pd.DataFrame:\n",
    "    merged = []\n",
    "    bin_edges = np.linspace(0, 1, 31)\n",
    "    for obj, group in df.groupby('objective'):\n",
    "\n",
    "        group = group.copy()\n",
    "        group['bucket'] = pd.cut(group['pre_pred'], bins=bin_edges)\n",
    "        counts = group['bucket'].value_counts().sort_index()\n",
    "\n",
    "        bins = counts.index.tolist()\n",
    "        merged_bins = []\n",
    "        current_bin = None\n",
    "        current_count = 0\n",
    "\n",
    "        for b in bins:\n",
    "            if current_bin is None:\n",
    "                current_bin = b\n",
    "                current_count = counts[b]  \n",
    "            else:\n",
    "                current_count += counts[b]\n",
    "            \n",
    "            if current_count < 30:\n",
    "                continue\n",
    "            new_bin = pd.Interval(left=current_bin.left, right=b.right, closed='right')\n",
    "            merged_bins.append((new_bin, current_count))\n",
    "            current_bin = None\n",
    "            current_count = 0\n",
    "        \n",
    "        if current_bin is not None:\n",
    "            new_bin = pd.Interval(left=current_bin.left, right=current_bin.right, closed='right')\n",
    "            merged_bins.append((new_bin, current_count))\n",
    "        \n",
    "        # Re-bin the original rows using merged bin edges\n",
    "        edges = sorted(set([bin[0].left for bin in merged_bins] + [merged_bins[-1][0].right]))\n",
    "        group['merged_bucket'] = pd.cut(group['pre_pred'], bins=edges, include_lowest=True)\n",
    "\n",
    "        merged.append(group)\n",
    "    \n",
    "    return pd.concat(merged)"
   ]
  },
  {
   "cell_type": "code",
   "execution_count": null,
   "metadata": {},
   "outputs": [],
   "source": [
    "def calc_mean_ci(bucket_stats: pd.DataFrame) -> dict:\n",
    "    stats = {}\n",
    "    for obj, group in bucket_stats.groupby('objective'):\n",
    "        # calcaulte weighted mean\n",
    "        n_observations_obj = group['n'].sum()\n",
    "        means = group['m']\n",
    "        n_observations_buckets = group['n']\n",
    "\n",
    "        bucket_weighted_means = np.sum(n_observations_buckets * means) / n_observations_obj\n",
    "\n",
    "        # calculate ci\n",
    "        bucket_variences = group['var'] \n",
    "        objective_varience = np.sum(np.multiply(n_observations_buckets, bucket_variences)) / (n_observations_obj ** 2)\n",
    "\n",
    "        z = 1.96 # for 95% ci\n",
    "\n",
    "        left = bucket_weighted_means - (z * np.sqrt(objective_varience))\n",
    "        right = bucket_weighted_means + (z * np.sqrt(objective_varience))\n",
    "        ci = pd.Interval(left, right)\n",
    "\n",
    "        stats[obj] = (bucket_weighted_means, ci )\n",
    "        \n",
    "    return stats"
   ]
  },
  {
   "cell_type": "code",
   "execution_count": null,
   "metadata": {},
   "outputs": [],
   "source": [
    "def analyze(predicted_df: pd.DataFrame) -> pd.DataFrame:\n",
    "\n",
    "    bin_edges = np.linspace(0, 1, 31)\n",
    "    predicted_df['bucket'] = pd.cut(predicted_df['pre_pred'], bins=bin_edges)\n",
    "    \n",
    "    sample_merged = merge_small_bins(predicted_df)\n",
    "\n",
    "    bucket_stats = (sample_merged.groupby(['objective','merged_bucket'])['win_delta']\n",
    "        .agg(n='count', m='mean', var = lambda x: x.var(ddof=1))\n",
    "        .reset_index()\n",
    "    )\n",
    "    dct = calc_mean_ci(bucket_stats)\n",
    "    \n",
    "    data = (pd.DataFrame(index=dct.keys(), \n",
    "                    data=np.array([[value[0] for value in dct.values()], \n",
    "                                    [value[1] for value in dct.values()]]).T,\n",
    "                    columns=['mean', 'confidence'])\n",
    "            .sort_values(by='mean', ascending=False))\n",
    "\n",
    "    return data\n",
    "\n",
    "def bootstrap_mean_ci(predicted_df: pd.DataFrame):\n",
    "    \"\"\"\n",
    "    DO THIS NEXT?????\n",
    "    https://chatgpt.com/c/67fea768-2020-800b-942d-e7555ce39f5d\n",
    "    \"\"\"\n",
    "    return "
   ]
  },
  {
   "cell_type": "code",
   "execution_count": 189,
   "metadata": {},
   "outputs": [],
   "source": [
    "import pickle\n",
    "\n",
    "with open(\"low_ece.pkl\", \"rb\") as f:\n",
    "    best_model = pickle.load(f)\n",
    "\n",
    "test_set = pd.read_parquet('test_set.parquet')\n",
    "\n",
    "predicted_df = find_win_deltas(test_set, best_model)"
   ]
  },
  {
   "cell_type": "code",
   "execution_count": 193,
   "metadata": {},
   "outputs": [
    {
     "data": {
      "application/vnd.microsoft.datawrangler.viewer.v0+json": {
       "columns": [
        {
         "name": "index",
         "rawType": "object",
         "type": "string"
        },
        {
         "name": "mean",
         "rawType": "object",
         "type": "unknown"
        },
        {
         "name": "confidence",
         "rawType": "interval[float64, right]",
         "type": "unknown"
        }
       ],
       "conversionMethod": "pd.DataFrame",
       "ref": "b3739824-1e70-46ad-ac1a-cd40409a6ca9",
       "rows": [
        [
         "elder",
         "0.0683452948981515",
         "(0.06713811357113991, 0.06955247622516308]"
        ],
        [
         "baron",
         "0.06637707715483004",
         "(0.06612238441220797, 0.06663176989745212]"
        ],
        [
         "atakhan",
         "0.05941012637280035",
         "(0.059262352298634365, 0.05955790044696633]"
        ],
        [
         "WATER_DRAGON",
         "0.04308678678273188",
         "(0.04282868224675913, 0.043344891318704636]"
        ],
        [
         "AIR_DRAGON",
         "0.042943325004286",
         "(0.04269041809981542, 0.04319623190875658]"
        ],
        [
         "HEXTECH_DRAGON",
         "0.04244339766798154",
         "(0.042184596981823384, 0.042702198354139694]"
        ],
        [
         "CHEMTECH_DRAGON",
         "0.04240542097736425",
         "(0.0421337577521114, 0.0426770842026171]"
        ],
        [
         "FIRE_DRAGON",
         "0.042390756075903605",
         "(0.042136661665459034, 0.042644850486348175]"
        ],
        [
         "EARTH_DRAGON",
         "0.04188822253431644",
         "(0.04164587085161448, 0.0421305742170184]"
        ],
        [
         "Mountain_dragon_soul",
         "0.033834921371938324",
         "(0.033465498593308496, 0.03420434415056815]"
        ],
        [
         "Cloud_dragon_soul",
         "0.032333890560216384",
         "(0.032016573974177696, 0.03265120714625507]"
        ],
        [
         "Hextech_dragon_soul",
         "0.03175257851328808",
         "(0.03138885769266101, 0.03211629933391515]"
        ],
        [
         "Chemtech_dragon_soul",
         "0.031550809631365896",
         "(0.031220646733901288, 0.0318809725288305]"
        ],
        [
         "Ocean_dragon_soul",
         "0.03078965113673815",
         "(0.03041997387962627, 0.03115932839385003]"
        ],
        [
         "Infernal_dragon_soul",
         "0.0291040513795485",
         "(0.028743560770859773, 0.029464541988237225]"
        ],
        [
         "midT1",
         "0.028299839159946303",
         "(0.02820455236846587, 0.028395125951426736]"
        ],
        [
         "botT1",
         "0.026631226918212767",
         "(0.02653574849991287, 0.026726705336512665]"
        ],
        [
         "grub",
         "0.02539283046214716",
         "(0.025263578876364868, 0.02552208204792945]"
        ],
        [
         "topT1",
         "0.02225108788190204",
         "(0.02214081853094252, 0.022361357232861562]"
        ],
        [
         "botT2",
         "0.02192671707138414",
         "(0.021811167234695204, 0.022042266908073076]"
        ],
        [
         "topT2",
         "0.021293022566653618",
         "(0.021165871553599787, 0.02142017357970745]"
        ],
        [
         "riftHerald",
         "0.021026284945717264",
         "(0.020919528657819375, 0.021133041233615153]"
        ],
        [
         "midT2",
         "0.0172158765937667",
         "(0.017122649846206636, 0.017309103341326765]"
        ],
        [
         "midInhib",
         "0.016955631696427605",
         "(0.016843516536154263, 0.017067746856700948]"
        ],
        [
         "nexusTurret",
         "0.015404233969916649",
         "(0.015340693835304668, 0.015467774104528629]"
        ],
        [
         "midT3",
         "0.012292262361805747",
         "(0.012216453993114823, 0.01236807073049667]"
        ],
        [
         "botInhib",
         "0.008638533596282914",
         "(0.008555567226474907, 0.008721499966090921]"
        ],
        [
         "topInhib",
         "0.0074581888219586905",
         "(0.0073685344970891116, 0.007547843146828269]"
        ],
        [
         "topT3",
         "0.006883083292803803",
         "(0.006767149725577646, 0.00699901686002996]"
        ],
        [
         "botT3",
         "0.00636799911544228",
         "(0.006272610266854173, 0.006463387964030387]"
        ],
        [
         "feats",
         "0.0",
         "(0.0, 0.0]"
        ]
       ],
       "shape": {
        "columns": 2,
        "rows": 31
       }
      },
      "text/html": [
       "<div>\n",
       "<style scoped>\n",
       "    .dataframe tbody tr th:only-of-type {\n",
       "        vertical-align: middle;\n",
       "    }\n",
       "\n",
       "    .dataframe tbody tr th {\n",
       "        vertical-align: top;\n",
       "    }\n",
       "\n",
       "    .dataframe thead th {\n",
       "        text-align: right;\n",
       "    }\n",
       "</style>\n",
       "<table border=\"1\" class=\"dataframe\">\n",
       "  <thead>\n",
       "    <tr style=\"text-align: right;\">\n",
       "      <th></th>\n",
       "      <th>mean</th>\n",
       "      <th>confidence</th>\n",
       "    </tr>\n",
       "  </thead>\n",
       "  <tbody>\n",
       "    <tr>\n",
       "      <th>elder</th>\n",
       "      <td>0.068345</td>\n",
       "      <td>(0.06713811357113991, 0.06955247622516308]</td>\n",
       "    </tr>\n",
       "    <tr>\n",
       "      <th>baron</th>\n",
       "      <td>0.066377</td>\n",
       "      <td>(0.06612238441220797, 0.06663176989745212]</td>\n",
       "    </tr>\n",
       "    <tr>\n",
       "      <th>atakhan</th>\n",
       "      <td>0.05941</td>\n",
       "      <td>(0.059262352298634365, 0.05955790044696633]</td>\n",
       "    </tr>\n",
       "    <tr>\n",
       "      <th>WATER_DRAGON</th>\n",
       "      <td>0.043087</td>\n",
       "      <td>(0.04282868224675913, 0.043344891318704636]</td>\n",
       "    </tr>\n",
       "    <tr>\n",
       "      <th>AIR_DRAGON</th>\n",
       "      <td>0.042943</td>\n",
       "      <td>(0.04269041809981542, 0.04319623190875658]</td>\n",
       "    </tr>\n",
       "    <tr>\n",
       "      <th>HEXTECH_DRAGON</th>\n",
       "      <td>0.042443</td>\n",
       "      <td>(0.042184596981823384, 0.042702198354139694]</td>\n",
       "    </tr>\n",
       "    <tr>\n",
       "      <th>CHEMTECH_DRAGON</th>\n",
       "      <td>0.042405</td>\n",
       "      <td>(0.0421337577521114, 0.0426770842026171]</td>\n",
       "    </tr>\n",
       "    <tr>\n",
       "      <th>FIRE_DRAGON</th>\n",
       "      <td>0.042391</td>\n",
       "      <td>(0.042136661665459034, 0.042644850486348175]</td>\n",
       "    </tr>\n",
       "    <tr>\n",
       "      <th>EARTH_DRAGON</th>\n",
       "      <td>0.041888</td>\n",
       "      <td>(0.04164587085161448, 0.0421305742170184]</td>\n",
       "    </tr>\n",
       "    <tr>\n",
       "      <th>Mountain_dragon_soul</th>\n",
       "      <td>0.033835</td>\n",
       "      <td>(0.033465498593308496, 0.03420434415056815]</td>\n",
       "    </tr>\n",
       "    <tr>\n",
       "      <th>Cloud_dragon_soul</th>\n",
       "      <td>0.032334</td>\n",
       "      <td>(0.032016573974177696, 0.03265120714625507]</td>\n",
       "    </tr>\n",
       "    <tr>\n",
       "      <th>Hextech_dragon_soul</th>\n",
       "      <td>0.031753</td>\n",
       "      <td>(0.03138885769266101, 0.03211629933391515]</td>\n",
       "    </tr>\n",
       "    <tr>\n",
       "      <th>Chemtech_dragon_soul</th>\n",
       "      <td>0.031551</td>\n",
       "      <td>(0.031220646733901288, 0.0318809725288305]</td>\n",
       "    </tr>\n",
       "    <tr>\n",
       "      <th>Ocean_dragon_soul</th>\n",
       "      <td>0.03079</td>\n",
       "      <td>(0.03041997387962627, 0.03115932839385003]</td>\n",
       "    </tr>\n",
       "    <tr>\n",
       "      <th>Infernal_dragon_soul</th>\n",
       "      <td>0.029104</td>\n",
       "      <td>(0.028743560770859773, 0.029464541988237225]</td>\n",
       "    </tr>\n",
       "    <tr>\n",
       "      <th>midT1</th>\n",
       "      <td>0.0283</td>\n",
       "      <td>(0.02820455236846587, 0.028395125951426736]</td>\n",
       "    </tr>\n",
       "    <tr>\n",
       "      <th>botT1</th>\n",
       "      <td>0.026631</td>\n",
       "      <td>(0.02653574849991287, 0.026726705336512665]</td>\n",
       "    </tr>\n",
       "    <tr>\n",
       "      <th>grub</th>\n",
       "      <td>0.025393</td>\n",
       "      <td>(0.025263578876364868, 0.02552208204792945]</td>\n",
       "    </tr>\n",
       "    <tr>\n",
       "      <th>topT1</th>\n",
       "      <td>0.022251</td>\n",
       "      <td>(0.02214081853094252, 0.022361357232861562]</td>\n",
       "    </tr>\n",
       "    <tr>\n",
       "      <th>botT2</th>\n",
       "      <td>0.021927</td>\n",
       "      <td>(0.021811167234695204, 0.022042266908073076]</td>\n",
       "    </tr>\n",
       "    <tr>\n",
       "      <th>topT2</th>\n",
       "      <td>0.021293</td>\n",
       "      <td>(0.021165871553599787, 0.02142017357970745]</td>\n",
       "    </tr>\n",
       "    <tr>\n",
       "      <th>riftHerald</th>\n",
       "      <td>0.021026</td>\n",
       "      <td>(0.020919528657819375, 0.021133041233615153]</td>\n",
       "    </tr>\n",
       "    <tr>\n",
       "      <th>midT2</th>\n",
       "      <td>0.017216</td>\n",
       "      <td>(0.017122649846206636, 0.017309103341326765]</td>\n",
       "    </tr>\n",
       "    <tr>\n",
       "      <th>midInhib</th>\n",
       "      <td>0.016956</td>\n",
       "      <td>(0.016843516536154263, 0.017067746856700948]</td>\n",
       "    </tr>\n",
       "    <tr>\n",
       "      <th>nexusTurret</th>\n",
       "      <td>0.015404</td>\n",
       "      <td>(0.015340693835304668, 0.015467774104528629]</td>\n",
       "    </tr>\n",
       "    <tr>\n",
       "      <th>midT3</th>\n",
       "      <td>0.012292</td>\n",
       "      <td>(0.012216453993114823, 0.01236807073049667]</td>\n",
       "    </tr>\n",
       "    <tr>\n",
       "      <th>botInhib</th>\n",
       "      <td>0.008639</td>\n",
       "      <td>(0.008555567226474907, 0.008721499966090921]</td>\n",
       "    </tr>\n",
       "    <tr>\n",
       "      <th>topInhib</th>\n",
       "      <td>0.007458</td>\n",
       "      <td>(0.0073685344970891116, 0.007547843146828269]</td>\n",
       "    </tr>\n",
       "    <tr>\n",
       "      <th>topT3</th>\n",
       "      <td>0.006883</td>\n",
       "      <td>(0.006767149725577646, 0.00699901686002996]</td>\n",
       "    </tr>\n",
       "    <tr>\n",
       "      <th>botT3</th>\n",
       "      <td>0.006368</td>\n",
       "      <td>(0.006272610266854173, 0.006463387964030387]</td>\n",
       "    </tr>\n",
       "    <tr>\n",
       "      <th>feats</th>\n",
       "      <td>0.0</td>\n",
       "      <td>(0.0, 0.0]</td>\n",
       "    </tr>\n",
       "  </tbody>\n",
       "</table>\n",
       "</div>"
      ],
      "text/plain": [
       "                          mean                                     confidence\n",
       "elder                 0.068345     (0.06713811357113991, 0.06955247622516308]\n",
       "baron                 0.066377     (0.06612238441220797, 0.06663176989745212]\n",
       "atakhan                0.05941    (0.059262352298634365, 0.05955790044696633]\n",
       "WATER_DRAGON          0.043087    (0.04282868224675913, 0.043344891318704636]\n",
       "AIR_DRAGON            0.042943     (0.04269041809981542, 0.04319623190875658]\n",
       "HEXTECH_DRAGON        0.042443   (0.042184596981823384, 0.042702198354139694]\n",
       "CHEMTECH_DRAGON       0.042405       (0.0421337577521114, 0.0426770842026171]\n",
       "FIRE_DRAGON           0.042391   (0.042136661665459034, 0.042644850486348175]\n",
       "EARTH_DRAGON          0.041888      (0.04164587085161448, 0.0421305742170184]\n",
       "Mountain_dragon_soul  0.033835    (0.033465498593308496, 0.03420434415056815]\n",
       "Cloud_dragon_soul     0.032334    (0.032016573974177696, 0.03265120714625507]\n",
       "Hextech_dragon_soul   0.031753     (0.03138885769266101, 0.03211629933391515]\n",
       "Chemtech_dragon_soul  0.031551     (0.031220646733901288, 0.0318809725288305]\n",
       "Ocean_dragon_soul      0.03079     (0.03041997387962627, 0.03115932839385003]\n",
       "Infernal_dragon_soul  0.029104   (0.028743560770859773, 0.029464541988237225]\n",
       "midT1                   0.0283    (0.02820455236846587, 0.028395125951426736]\n",
       "botT1                 0.026631    (0.02653574849991287, 0.026726705336512665]\n",
       "grub                  0.025393    (0.025263578876364868, 0.02552208204792945]\n",
       "topT1                 0.022251    (0.02214081853094252, 0.022361357232861562]\n",
       "botT2                 0.021927   (0.021811167234695204, 0.022042266908073076]\n",
       "topT2                 0.021293    (0.021165871553599787, 0.02142017357970745]\n",
       "riftHerald            0.021026   (0.020919528657819375, 0.021133041233615153]\n",
       "midT2                 0.017216   (0.017122649846206636, 0.017309103341326765]\n",
       "midInhib              0.016956   (0.016843516536154263, 0.017067746856700948]\n",
       "nexusTurret           0.015404   (0.015340693835304668, 0.015467774104528629]\n",
       "midT3                 0.012292    (0.012216453993114823, 0.01236807073049667]\n",
       "botInhib              0.008639   (0.008555567226474907, 0.008721499966090921]\n",
       "topInhib              0.007458  (0.0073685344970891116, 0.007547843146828269]\n",
       "topT3                 0.006883    (0.006767149725577646, 0.00699901686002996]\n",
       "botT3                 0.006368   (0.006272610266854173, 0.006463387964030387]\n",
       "feats                      0.0                                     (0.0, 0.0]"
      ]
     },
     "execution_count": 193,
     "metadata": {},
     "output_type": "execute_result"
    }
   ],
   "source": [
    "analyze(predicted_df)"
   ]
  }
 ],
 "metadata": {
  "kernelspec": {
   "display_name": ".venv",
   "language": "python",
   "name": "python3"
  },
  "language_info": {
   "codemirror_mode": {
    "name": "ipython",
    "version": 3
   },
   "file_extension": ".py",
   "mimetype": "text/x-python",
   "name": "python",
   "nbconvert_exporter": "python",
   "pygments_lexer": "ipython3",
   "version": "3.13.2"
  }
 },
 "nbformat": 4,
 "nbformat_minor": 2
}
